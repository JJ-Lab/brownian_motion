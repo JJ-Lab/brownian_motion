{
 "cells": [
  {
   "cell_type": "code",
   "execution_count": 1,
   "id": "6e9f4d2a",
   "metadata": {},
   "outputs": [],
   "source": [
    "import cv2"
   ]
  },
  {
   "cell_type": "code",
   "execution_count": 2,
   "id": "a609d660",
   "metadata": {},
   "outputs": [],
   "source": [
    "tracker = cv2.TrackerCSRT_create()"
   ]
  },
  {
   "cell_type": "code",
   "execution_count": 3,
   "id": "d1bf8e76",
   "metadata": {},
   "outputs": [],
   "source": [
    "v = cv2.VideoCapture('gol.mp4')"
   ]
  },
  {
   "cell_type": "code",
   "execution_count": 4,
   "id": "50316ecb",
   "metadata": {},
   "outputs": [
    {
     "name": "stdout",
     "output_type": "stream",
     "text": [
      "(424, 269, 48, 58)\n"
     ]
    }
   ],
   "source": [
    "ret,frame =v.read()\n",
    "cv2.imshow('Frame',frame)\n",
    "\n",
    "bb = cv2.selectROI('Frame',frame)\n",
    "print(bb)\n"
   ]
  },
  {
   "cell_type": "code",
   "execution_count": 5,
   "id": "fc986c81",
   "metadata": {},
   "outputs": [],
   "source": [
    "tracker.init(frame,bb)"
   ]
  },
  {
   "cell_type": "code",
   "execution_count": 6,
   "id": "5bd1bdac",
   "metadata": {},
   "outputs": [],
   "source": [
    "while True:\n",
    "    ret,frame = v.read()\n",
    "    if not ret:\n",
    "        break\n",
    "    (success,box)=tracker.update(frame)\n",
    "    if success:\n",
    "        (x,y,w,h)=[int(a) for a in box]\n",
    "        cv2.rectangle(frame,(x,y),(x+w,y+h),(255,255,0),2)\n",
    "    cv2.imshow('Frame',frame)\n",
    "    key = cv2.waitKey(5) & 0xFF\n",
    "    if key == ord('q'):\n",
    "        break\n",
    "        \n",
    "v.release()\n",
    "cv2.destroyAllWindows()"
   ]
  },
  {
   "cell_type": "code",
   "execution_count": null,
   "id": "1152d991",
   "metadata": {},
   "outputs": [],
   "source": []
  }
 ],
 "metadata": {
  "kernelspec": {
   "display_name": "Python 3 (ipykernel)",
   "language": "python",
   "name": "python3"
  },
  "language_info": {
   "codemirror_mode": {
    "name": "ipython",
    "version": 3
   },
   "file_extension": ".py",
   "mimetype": "text/x-python",
   "name": "python",
   "nbconvert_exporter": "python",
   "pygments_lexer": "ipython3",
   "version": "3.8.13"
  }
 },
 "nbformat": 4,
 "nbformat_minor": 5
}
