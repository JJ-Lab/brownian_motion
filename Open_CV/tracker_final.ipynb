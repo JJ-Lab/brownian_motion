{
 "cells": [
  {
   "cell_type": "code",
   "execution_count": 42,
   "id": "0e8a47a4",
   "metadata": {},
   "outputs": [],
   "source": [
    "import cv2"
   ]
  },
  {
   "cell_type": "code",
   "execution_count": 53,
   "id": "0f086a98",
   "metadata": {},
   "outputs": [],
   "source": [
    "tracker = cv2.TrackerCSRT_create()"
   ]
  },
  {
   "cell_type": "code",
   "execution_count": 54,
   "id": "b3a39913",
   "metadata": {},
   "outputs": [],
   "source": [
    "video = cv2.VideoCapture('listeria.mp4')"
   ]
  },
  {
   "cell_type": "code",
   "execution_count": 55,
   "id": "ec7a7b8b",
   "metadata": {},
   "outputs": [
    {
     "name": "stdout",
     "output_type": "stream",
     "text": [
      "(926, 179, 28, 13)\n"
     ]
    }
   ],
   "source": [
    "ret,frame =video.read()\n",
    "cv2.imshow('Frame',frame)\n",
    "roi = cv2.selectROI('Frame',frame)\n",
    "x_coord=[]\n",
    "y_coord=[]\n",
    "print(roi)"
   ]
  },
  {
   "cell_type": "code",
   "execution_count": 56,
   "id": "da46196a",
   "metadata": {},
   "outputs": [],
   "source": [
    "tracker.init(frame,roi)"
   ]
  },
  {
   "cell_type": "code",
   "execution_count": 57,
   "id": "d6015631",
   "metadata": {},
   "outputs": [],
   "source": [
    "while True:\n",
    "    ret,frame = video.read()\n",
    "    if not ret:\n",
    "        break\n",
    "    (success,box)=tracker.update(frame)\n",
    "    if success:\n",
    "        (x,y,w,h)=[int(a) for a in box]\n",
    "        cv2.rectangle(frame,(x,y),(x+w,y+h),(255,255,0),2)\n",
    "        x_coord.append(x)\n",
    "        y_coord.append(y)\n",
    "    cv2.imshow('Frame',frame)\n",
    "    key = cv2.waitKey(5) & 0xFF\n",
    "    if key == ord('q'):\n",
    "        break\n",
    "        \n",
    "video.release()\n",
    "cv2.destroyAllWindows()"
   ]
  },
  {
   "cell_type": "markdown",
   "id": "4c81e20b",
   "metadata": {},
   "source": [
    "##### Primero ejecutamos el código hasta esta línea y después cuando el vídeo ha terminado de correr, entonces ejecutamos la linea que resta "
   ]
  },
  {
   "cell_type": "code",
   "execution_count": 58,
   "id": "6f022f5d",
   "metadata": {},
   "outputs": [],
   "source": [
    "group=[]\n",
    "for i in range (1,len(y_coord)):\n",
    "    cont=[x_coord[i],y_coord[i]]\n",
    "    group.append(cont)\n",
    "#print(group)\n",
    "# open file for writing\n",
    "f = open(\"output_coordinates.txt\",\"w\")\n",
    "f.write(str(group))\n",
    "f.close()"
   ]
  },
  {
   "cell_type": "code",
   "execution_count": null,
   "id": "ab53e69c",
   "metadata": {},
   "outputs": [],
   "source": []
  }
 ],
 "metadata": {
  "kernelspec": {
   "display_name": "Python 3 (ipykernel)",
   "language": "python",
   "name": "python3"
  },
  "language_info": {
   "codemirror_mode": {
    "name": "ipython",
    "version": 3
   },
   "file_extension": ".py",
   "mimetype": "text/x-python",
   "name": "python",
   "nbconvert_exporter": "python",
   "pygments_lexer": "ipython3",
   "version": "3.9.13"
  }
 },
 "nbformat": 4,
 "nbformat_minor": 5
}
